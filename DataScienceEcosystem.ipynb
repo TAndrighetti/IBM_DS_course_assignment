{
  "nbformat": 4,
  "nbformat_minor": 0,
  "metadata": {
    "colab": {
      "provenance": []
    },
    "kernelspec": {
      "name": "python3",
      "display_name": "Python 3"
    },
    "language_info": {
      "name": "python"
    }
  },
  "cells": [
    {
      "cell_type": "markdown",
      "source": [
        "# Data Science Tools and Ecosystem"
      ],
      "metadata": {
        "id": "M75x5e_Kjs__"
      }
    },
    {
      "cell_type": "markdown",
      "source": [
        "In this notebook, Data Science Tools and Ecosystem are summarized."
      ],
      "metadata": {
        "id": "OUFIg_0pkUya"
      }
    },
    {
      "cell_type": "markdown",
      "source": [
        "## Author:\n",
        "Tahila Andrighetti\n",
        "\n",
        "\n",
        "**Objectives:**\n",
        "\n",
        "- List popular languages for Data Science\n",
        "- List commonly used libraries for Data Science\n",
        "- Make a single column table with Data Science tools\n",
        "- Create code cells with arithmetic expressions in Python\n"
      ],
      "metadata": {
        "id": "jkmAFGgqptnc"
      }
    },
    {
      "cell_type": "markdown",
      "source": [
        "Some of the popular languages that Data Scientists use are:\n",
        "\n",
        "1. Python\n",
        "2. R Language\n",
        "3. SQL\n",
        "4. Julia\n",
        "5. Scala"
      ],
      "metadata": {
        "id": "_RfcKH7Jkpxo"
      }
    },
    {
      "cell_type": "markdown",
      "source": [
        "Some of the commonly used libraries used by Data Scientists include:\n",
        "\n",
        "1. TensorFlow\n",
        "2. Pandas\n",
        "3. Scikit-Learn\n",
        "4. Dplyr\n",
        "5. ggplot2"
      ],
      "metadata": {
        "id": "6Jr9-1S8luza"
      }
    },
    {
      "cell_type": "markdown",
      "source": [
        "| Data Science Tools |\n",
        "| -- |\n",
        "| Jupyter Notebook |\n",
        "| RStudio |\n",
        "| VSCode |"
      ],
      "metadata": {
        "id": "vpO_E-hcmJXA"
      }
    },
    {
      "cell_type": "markdown",
      "source": [
        "### Below are a few examples of evaluating arithmetic expressions in Python."
      ],
      "metadata": {
        "id": "vigVbSs6nsXt"
      }
    },
    {
      "cell_type": "code",
      "source": [
        "# E.g. This a simple arithmetic expression to mutiply then add integers\n",
        "\n",
        "(3*4)+5"
      ],
      "metadata": {
        "colab": {
          "base_uri": "https://localhost:8080/"
        },
        "id": "fqDOvarHoDY9",
        "outputId": "aa783f73-ad19-4a8e-fe57-1e53533578d8"
      },
      "execution_count": null,
      "outputs": [
        {
          "output_type": "execute_result",
          "data": {
            "text/plain": [
              "17"
            ]
          },
          "metadata": {},
          "execution_count": 2
        }
      ]
    },
    {
      "cell_type": "code",
      "source": [
        "# E.g. This will convert 200 minutes to hours by diving by 60\n",
        "\n",
        "minutes = 200\n",
        "\n",
        "hours = minutes / 60\n",
        "\n",
        "print(f\"{minutes} is equivalent to {hours} hours\")"
      ],
      "metadata": {
        "colab": {
          "base_uri": "https://localhost:8080/"
        },
        "id": "f4_e9Bt7ofM9",
        "outputId": "10ffceba-b1ed-44f0-da80-816b5ea7da72"
      },
      "execution_count": null,
      "outputs": [
        {
          "output_type": "stream",
          "name": "stdout",
          "text": [
            "200 is equivalent to 3.3333333333333335 hours\n"
          ]
        }
      ]
    }
  ]
}